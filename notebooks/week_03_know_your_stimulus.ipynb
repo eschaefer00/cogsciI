{
 "cells": [
  {
   "cell_type": "markdown",
   "metadata": {},
   "source": [
    "# Week 3: Know your stimulus\n",
    "\n",
    "You can largely work through this notebook in the seminar in class. However, for the monitor calibration step at the end, please use the setup you intend to use to collect your data for the experiment. For example, if you intend to collect your data at home using an external monitor, do the calibration with that monitor.\n",
    "\n",
    "## Part I: Estimate the number of pixels per degree of visual angle on your monitor\n",
    "\n",
    "We need to know how large a stimulus will appear on your retina. This depends on \n",
    "\n",
    "1. How large your screen is (physically; in cm)\n",
    "2. The pixel density of your screen (pixels per cm)\n",
    "3. How far away from the screen you are\n",
    "\n",
    "The unit that we use to measure this is *pixels per degree*. How many pixels on your screen are contained in 1 degree of angle, measured at the retina? You can estimate the number of pixels per degree of angle on your monitor by measuring the three values above, then using some basic trigonometry.\n",
    "\n",
    "1. Screen size: use a tape measure or ruler to measure the width in cm.\n",
    "2. Pixel density: Look up the resolution of your monitor in your system settings. That gives you the number of pixels in width, height. You can also use a little Python program by running the script `experiments/determine_fullscreen_pixels.py` from PsychoPy.\n",
    "3. Viewing distance: In the lab, we would control this using a chin rest. For you, just sit at a comfortable distance and measure the approximate distance from your eye to the monitor (typically about 60--70 cm).\n",
    "\n",
    "My screen: \n",
    "- width: 30,3cm: lit screen 28,5\n",
    "- height: 19,8 cm: lit screen 17,8\n",
    "- 13,3 zoll (2560x1600) integriertes retina display\n",
    "- viewing distance: 50 cm \n",
    "\n",
    "**Further reading**\n",
    "\n",
    "- Li, Q., Joo, S. J., Yeatman, J. D., & Reinecke, K. (2020). Controlling for Participants’ Viewing Distance in Large-Scale, Psychophysical Online Experiments Using a Virtual Chinrest. Scientific Reports, 10(1), 904. https://doi.org/10.1038/s41598-019-57204-1"
   ]
  },
  {
   "cell_type": "code",
   "execution_count": 9,
   "metadata": {
    "ExecuteTime": {
     "end_time": "2024-05-01T09:23:53.212863Z",
     "start_time": "2024-05-01T09:23:53.192003Z"
    }
   },
   "outputs": [],
   "source": [
    "import numpy as np"
   ]
  },
  {
   "cell_type": "markdown",
   "metadata": {},
   "source": [
    "### <span style=\"color:blue\">Task 1</span>\n",
    "\n",
    "Write a function into the template below (by replacing the line `raise NotImplementedError`) to estimate the number of pixels per degree of visual angle on your monitor.\n",
    "\n",
    "Hints:\n",
    "- Numpy trigonometric functions (e.g. `np.sin()`, `np.cos()` and `np.arctan()`) expect values in radians\n",
    "- For a \"1080p\"-ish resolution monitor ($1920 \\times 1080$ pixels) viewed from a typical distance, a typical pixel per degree value would be between 25 and 40.\n",
    "- A HD / 4k monitor will have approximately double this resolution."
   ]
  },
  {
   "cell_type": "code",
   "execution_count": 10,
   "metadata": {
    "ExecuteTime": {
     "end_time": "2024-05-01T09:23:55.763955Z",
     "start_time": "2024-05-01T09:23:55.753234Z"
    }
   },
   "outputs": [],
   "source": [
    "def compute_pixels_per_degree(\n",
    "    screen_width_cm: float, viewing_distance_cm: float, screen_pixel_width: float\n",
    ") -> float:\n",
    "    \"\"\"\n",
    "    Compute the number of pixels per degree of visual angle.\n",
    "\n",
    "    Args:\n",
    "        screen_width_cm (float): The width of the screen in cm.\n",
    "        viewing_distance_cm (float): The viewing distance in cm.\n",
    "        screen_pixel_width (float): The width of the screen in pixels.\n",
    "\n",
    "    Returns:\n",
    "        float: The number of pixels per degree.\n",
    "    \"\"\"\n",
    "    # Calculate the horizontal field of view in degrees\n",
    "    fov_horizontal_deg = 2 * np.arctan((screen_width_cm / 2) / viewing_distance_cm) * (180 / np.pi)\n",
    "\n",
    "    # Calculate pixels per degree\n",
    "    pixels_per_degree = screen_pixel_width / fov_horizontal_deg\n",
    "\n",
    "    return pixels_per_degree"
   ]
  },
  {
   "cell_type": "code",
   "execution_count": 11,
   "metadata": {
    "ExecuteTime": {
     "end_time": "2024-05-01T09:23:58.319301Z",
     "start_time": "2024-05-01T09:23:58.313112Z"
    }
   },
   "outputs": [],
   "source": [
    "#!!! do not modify the contents of this cell.!!!!\n",
    "# If your function above is working correctly, the tests here should pass.\n",
    "\n",
    "\n",
    "def test_compute_ppd_1():\n",
    "    ppd = compute_pixels_per_degree(\n",
    "        screen_width_cm=60, viewing_distance_cm=60, screen_pixel_width=1920\n",
    "    )\n",
    "    np.testing.assert_approx_equal(ppd, 36.1, significant=3)\n",
    "\n",
    "\n",
    "def test_compute_ppd_2():\n",
    "    ppd = compute_pixels_per_degree(\n",
    "        screen_width_cm=60, viewing_distance_cm=60, screen_pixel_width=2880\n",
    "    )\n",
    "    np.testing.assert_approx_equal(ppd, 54.2, significant=3)\n",
    "\n",
    "\n",
    "test_compute_ppd_1()\n",
    "test_compute_ppd_2()"
   ]
  },
  {
   "cell_type": "markdown",
   "metadata": {},
   "source": [
    "If the cell above creates assertion errors, it means your function is not working correctly yet.\n",
    "\n",
    "Now, call your function that you defined and tested above to compute the pixels per degree of your computer monitor that you're going to use to perform our experiment in the cell below."
   ]
  },
  {
   "cell_type": "code",
   "execution_count": 12,
   "metadata": {
    "ExecuteTime": {
     "end_time": "2024-05-01T09:36:55.062974Z",
     "start_time": "2024-05-01T09:36:55.039451Z"
    }
   },
   "outputs": [
    {
     "data": {
      "text/plain": "80.46"
     },
     "execution_count": 12,
     "metadata": {},
     "output_type": "execute_result"
    }
   ],
   "source": [
    "# call your function with your monitor params here; print the ppd value.\n",
    "np.round(\n",
    "    compute_pixels_per_degree(\n",
    "        screen_width_cm=28.5, viewing_distance_cm=50, screen_pixel_width=2560\n",
    "    ),\n",
    "    2,\n",
    ")"
   ]
  },
  {
   "cell_type": "markdown",
   "metadata": {},
   "source": [
    "### <span style=\"color:blue\">Task 2</span>\n",
    "\n",
    "Write a paragraph below on why this is only an estimate of the pixels per degree. Consider what will happen in the middle of the monitor, versus at the edge."
   ]
  },
  {
   "cell_type": "markdown",
   "metadata": {},
   "source": [
    "*Write your answer here*\n",
    "The pixels per degree calculation provided gives an average approximation across the entire monitor screen. This means it assumes a uniform distribution of pixels per degree across the visual field. However, in reality, the visual system is more complex, and the distribution of pixels per degree varies across the screen due to geometric considerations.\n",
    "\n",
    "In essence, while the calculation provides a useful average approximation, it doesn't fully capture the variations in visual acuity across the monitor's surface. To achieve a more precise estimation, the varying visual angles across the screen and how they relate to the distribution of pixels.\n",
    "\n",
    "Furthermore factors such as screen curvature as well as viewing distance variations lead to the variability of this estimation. Hence, while the pixels per degree calculation provides a useful metric for understanding visual perception on a monitor, it's essential to recognize its limitations and the variation in visual acuity across different regions of the screen.\n"
   ]
  },
  {
   "cell_type": "markdown",
   "metadata": {},
   "source": [
    "### <span style=\"color:blue\">Task 3</span>\n",
    "\n",
    "Note down \n",
    "\n",
    "1. your screen dimensions (both cm and pix) and \n",
    "2. the viewing distance you will use to perform the experiments\n",
    "\n",
    "- distance: 50.0cm\n",
    "- 800 px height\n",
    "- 1280 px width\n",
    "- 28.5 cm screen width\n",
    "- 2.2 gamma\n",
    "\n",
    "Now, run the program `experiments/create_monitor_profile.py` in PsychoPy.\n",
    "This will ask you for some information (enter the values above) then run a series of tests to set up your monitor. \n",
    "Read and follow the instructions on screen.\n",
    "If you get back very strange values or the program errors out, you may have missed updating a default value to the real thing.\n"
   ]
  },
  {
   "cell_type": "markdown",
   "metadata": {},
   "source": [
    "## Part II: Check the timing of stimulus presentation on your setup\n",
    "\n",
    "Time is also integral to perceptual processes.\n",
    "How long were the stimuli presented on the screen?\n",
    "Due to the specifics of hardware, operating system and software, ensuring accurate timing is not simply a matter of programming the desired time into your experiment software and expecting that to be accurate.\n",
    "As discussed in the slides, monitors only refresh their image at a certain rate, and so we can only update the stimulus on the monitor at this rate. \n",
    "\n",
    "Here, you will run a simple timing test of your computer setup using PsychoPy and interpret the results.\n",
    "\n",
    "**Further reading**\n",
    "\n",
    "- https://psychopy.org/general/timing/index.html#timing\n",
    "- Bridges, D., Pitiot, A., MacAskill, M. R., & Peirce, J. W. (2020). The timing mega-study: Comparing a range of experiment generators, both lab-based and online. *PeerJ, 8*(e9414). https://doi.org/10.7717/peerj.9414\n",
    "\n",
    "\n"
   ]
  },
  {
   "cell_type": "markdown",
   "metadata": {},
   "source": [
    "### A simple test of timing\n",
    "\n",
    "PsychoPy provides some scripts for testing the timing of your display.\n",
    "Within PsychoPy Standalone:\n",
    "\n",
    "1. Select the Coder window\n",
    "2. From the Demos menu, select `timing` the select `timeByFrames.py`.\n",
    "3. Click the green \"run\" arrow in the Coder window.\n",
    "\n",
    "(Anyone using PsychoPy from the command line will need to find this script manually in the psychopy directory and run it from the command line).\n",
    "\n",
    "This will draw a stimulus (a \"drifting Gabor\") for 600 frames (screen refreshes) and then generate a figure with two plots.\n",
    "Ideally, the plots will look something like the ones below:\n",
    "\n",
    "<div>\n",
    "<img src=\"timeByFrameRes.png\" width=\"800\"/>\n",
    "</div>\n",
    "\n",
    "In the image above (taken from the PsychoPy website) we can see that the measured frame time hovers around the expected 1000/60 = 16.66 ms for a 60 Hz monitor (left plot), and that there were zero frames \"dropped\" (in which computer processing or some other process prevents the refreshing of a monitor within the frame period).\n",
    "\n",
    "Hopefully your plot looks something like this, but it may not."
   ]
  },
  {
   "cell_type": "markdown",
   "metadata": {},
   "source": [
    "### <span style=\"color:blue\">Task 4</span>\n",
    "\n",
    "Interpret the plot produced by `timeByFrames.py` on your system. What does it mean for the timing precision on your experiment setup?\n",
    "\n",
    "Replace the cell below with your answer as a 2-3 sentence paragraph."
   ]
  },
  {
   "cell_type": "markdown",
   "metadata": {},
   "source": [
    "*Replace this cell with your answer*"
   ]
  },
  {
   "cell_type": "markdown",
   "metadata": {},
   "source": [
    "### Conclusion Part II\n",
    "\n",
    "Do not be concerned if the timing of your display is not good (e.g. you have a number of dropped frames, or your frame interval varies a lot).\n",
    "Mac OS is particularly woeful for experiment timing.\n",
    "For the purposes of this class experiment this doesn't matter, but if you were trying to record publication-quality data, you would want to take care to ensure your experimental setup is producing the stimuli you think it is.\n"
   ]
  }
 ],
 "metadata": {
  "kernelspec": {
   "display_name": "Python 3 (ipykernel)",
   "language": "python",
   "name": "python3"
  },
  "language_info": {
   "codemirror_mode": {
    "name": "ipython",
    "version": 3
   },
   "file_extension": ".py",
   "mimetype": "text/x-python",
   "name": "python",
   "nbconvert_exporter": "python",
   "pygments_lexer": "ipython3",
   "version": "3.11.3"
  }
 },
 "nbformat": 4,
 "nbformat_minor": 2
}
